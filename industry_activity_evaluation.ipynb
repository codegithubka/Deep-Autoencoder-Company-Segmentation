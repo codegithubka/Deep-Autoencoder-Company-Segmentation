{
 "cells": [
  {
   "metadata": {},
   "cell_type": "markdown",
   "source": [
    "Industrial Activity Evaluation of each team\n",
    "    - Number of existing demosb and TRL of existing technologies\n",
    "    - Strength of current industry involvement\n",
    "    - Publication Rate\n",
    "    - Potential Demos and TRL of existing technologies"
   ],
   "id": "70c2ba87730bd5df"
  },
  {
   "metadata": {},
   "cell_type": "code",
   "outputs": [],
   "execution_count": null,
   "source": "",
   "id": "82b3cd720de328d"
  }
 ],
 "metadata": {
  "kernelspec": {
   "display_name": "Python 3",
   "language": "python",
   "name": "python3"
  },
  "language_info": {
   "codemirror_mode": {
    "name": "ipython",
    "version": 2
   },
   "file_extension": ".py",
   "mimetype": "text/x-python",
   "name": "python",
   "nbconvert_exporter": "python",
   "pygments_lexer": "ipython2",
   "version": "2.7.6"
  }
 },
 "nbformat": 4,
 "nbformat_minor": 5
}

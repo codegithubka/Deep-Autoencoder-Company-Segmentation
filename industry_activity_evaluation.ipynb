{
 "cells": [
  {
   "metadata": {},
   "cell_type": "markdown",
   "source": [
    "Industrial Activity Evaluation of each team\n",
    "    - Number of existing demosb and TRL of existing technologies\n",
    "    - Strength of current industry involvement\n",
    "    - Publication Rate\n",
    "    - Potential Demos and TRL of existing technologies"
   ],
   "id": "70c2ba87730bd5df"
  },
  {
   "metadata": {},
   "cell_type": "markdown",
   "source": [
    "Given the active research fields of each team\n",
    "-Assess TRL/Readiness of each developing technology\n",
    "-Demo existence\n",
    "-Potential demo development\n",
    "-Active industry partnerships\n",
    "Publication Rate\n",
    "\n",
    "For the above factors, assign importance weights for the evaluation of each team\n",
    "-Create scoring system that evaluates overall team activity and industry involvement in terms of TRL, Demo Preparation, and (prospective) industrial parnters.\n"
   ],
   "id": "b12b567e375dcbc0"
  },
  {
   "metadata": {},
   "cell_type": "markdown",
   "source": [
    "Features:\n",
    "-TRL (1-9 or ON, AL, DS)\n",
    "-Number of demos\n",
    "-Number of current industry partners\n",
    "-Number of publications (within a certain timeline)\n",
    "OR publication activity (High, Med, Low)\n",
    "-Funding status\n",
    "-Number of academic partnerships (active)\n",
    "OR recent academic partnership trend\n",
    "\n",
    "Contributing Factors:\n",
    "-Number of members (high number or members with low activity trends and number of active projects is problematic)\n",
    "-"
   ],
   "id": "4465305a008f05e2"
  },
  {
   "metadata": {},
   "cell_type": "code",
   "outputs": [],
   "execution_count": null,
   "source": "",
   "id": "a89618681e7d84c8"
  }
 ],
 "metadata": {
  "kernelspec": {
   "display_name": "Python 3",
   "language": "python",
   "name": "python3"
  },
  "language_info": {
   "codemirror_mode": {
    "name": "ipython",
    "version": 2
   },
   "file_extension": ".py",
   "mimetype": "text/x-python",
   "name": "python",
   "nbconvert_exporter": "python",
   "pygments_lexer": "ipython2",
   "version": "2.7.6"
  }
 },
 "nbformat": 4,
 "nbformat_minor": 5
}

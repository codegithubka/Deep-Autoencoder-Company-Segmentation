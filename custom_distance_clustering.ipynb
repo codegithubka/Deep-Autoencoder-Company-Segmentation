{
 "cells": [
  {
   "cell_type": "code",
   "id": "initial_id",
   "metadata": {
    "collapsed": true,
    "ExecuteTime": {
     "end_time": "2024-07-10T08:54:40.333589Z",
     "start_time": "2024-07-10T08:54:40.323568Z"
    }
   },
   "source": [
    "import pandas as pd\n",
    "import numpy as np\n",
    "from sklearn.cluster import AgglomerativeClustering\n",
    "from sklearn.cluster import KMeans\n",
    "import matplotlib.pyplot as plt\n",
    "import seaborn as sns\n",
    "from sklearn.cluster import AgglomerativeClustering, KMeans, DBSCAN\n",
    "from sklearn.metrics import silhouette_score, davies_bouldin_score\n",
    "from sklearn.model_selection import GridSearchCV\n",
    "from sklearn.preprocessing import StandardScaler\n",
    "from sklearn.base import BaseEstimator, ClusterMixin\n",
    "from sklearn.model_selection import train_test_split\n",
    "from sklearn.ensemble import RandomForestClassifier, GradientBoostingClassifier\n",
    "from sklearn.svm import SVC\n",
    "from sklearn.linear_model import LogisticRegression\n",
    "from sklearn.metrics import classification_report, accuracy_score, confusion_matrix\n",
    "from sklearn.preprocessing import StandardScaler\n",
    "from sklearn.metrics import silhouette_score, make_scorer, classification_report, confusion_matrix\n",
    "from sklearn.model_selection import GridSearchCV, train_test_split\n",
    "from sklearn.base import BaseEstimator, TransformerMixin\n",
    "from sklearn.pipeline import Pipeline\n",
    "from sklearn.compose import ColumnTransformer\n",
    "from sklearn.preprocessing import StandardScaler, FunctionTransformer\n"
   ],
   "outputs": [],
   "execution_count": 13
  },
  {
   "metadata": {
    "ExecuteTime": {
     "end_time": "2024-07-10T08:54:41.763647Z",
     "start_time": "2024-07-10T08:54:41.755495Z"
    }
   },
   "cell_type": "code",
   "source": [
    "involvement_columns = ['Security', 'Humanities', 'Nat. Sci', 'Health', 'AI Ethics', 'Big Data', \n",
    "                           'Robotics', 'Documents', 'Multimedia', 'NLP', 'KRR', 'Graphs', 'DL/ML', \n",
    "                           'Funding', 'Application-Oriented', 'Number of Members', \n",
    "                           'Academic Collaborations', 'System Maturity', 'Demos', 'Industrial Collaborations']"
   ],
   "id": "42d00e999792d3f7",
   "outputs": [],
   "execution_count": 14
  },
  {
   "metadata": {
    "ExecuteTime": {
     "end_time": "2024-07-10T08:54:43.611483Z",
     "start_time": "2024-07-10T08:54:43.608085Z"
    }
   },
   "cell_type": "code",
   "source": "industry_cols = ['Security', 'Humanities', 'Nat. Sci', 'Health', 'AI Ethics', 'Big Data', 'Robotics', 'Documents', 'Multimedia', 'NLP', 'KRR', 'Graphs', 'DL/ML']",
   "id": "e10275561aac45f4",
   "outputs": [],
   "execution_count": 15
  },
  {
   "metadata": {
    "ExecuteTime": {
     "end_time": "2024-07-10T08:53:30.722843Z",
     "start_time": "2024-07-10T08:53:30.715835Z"
    }
   },
   "cell_type": "code",
   "source": [
    "comp_cols = ['Number of Members', 'Application-Oriented', 'Academic Collaborations', \n",
    "                      'System Maturity', 'Demos', 'Industrial Collaborations']"
   ],
   "id": "a7cee03680929c70",
   "outputs": [],
   "execution_count": 4
  },
  {
   "metadata": {
    "ExecuteTime": {
     "end_time": "2024-07-10T08:54:45.042149Z",
     "start_time": "2024-07-10T08:54:45.038921Z"
    }
   },
   "cell_type": "code",
   "source": [
    "feature_weights = {\n",
    "    'Security': 1.0, 'Humanities': 1.0, 'Nat. Sci': 1.0, 'Health': 1.0, 'AI Ethics': 1.0, 'Big Data': 1.0, 'Robotics': 1.0, \n",
    "    'Documents': 1.0, 'Multimedia': 1.0, 'NLP': 1.0, 'KRR': 1.0, 'Graphs': 1.0, 'DL/ML': 1.0, \n",
    "    'Number of Members': 0.5, 'Application-Oriented': 0.5, 'Academic Collaborations': 0.5, 'System Maturity': 0.5, \n",
    "    'Demos': 0.5, 'Industrial Collaborations': 0.5\n",
    "}"
   ],
   "id": "33b25d4fefe6655b",
   "outputs": [],
   "execution_count": 16
  },
  {
   "metadata": {
    "ExecuteTime": {
     "end_time": "2024-07-10T08:54:46.378420Z",
     "start_time": "2024-07-10T08:54:46.371032Z"
    }
   },
   "cell_type": "code",
   "source": "weights = {'Strong': 3, 'Good': 2, 'Average': 1, 'None': 0}",
   "id": "c9e832f523762f8",
   "outputs": [],
   "execution_count": 17
  },
  {
   "metadata": {
    "ExecuteTime": {
     "end_time": "2024-07-10T08:54:47.495090Z",
     "start_time": "2024-07-10T08:54:47.491748Z"
    }
   },
   "cell_type": "code",
   "source": [
    "def load_and_preprocess_data(file_path):\n",
    "    data = pd.read_csv(file_path, index_col=0).transpose()\n",
    "   \n",
    "    for column in involvement_columns:\n",
    "        if column in data.columns:\n",
    "            data[column] = data[column].map(weights).fillna(0)\n",
    "    \n",
    "    return data"
   ],
   "id": "c47d6dfd4815b2e1",
   "outputs": [],
   "execution_count": 18
  },
  {
   "metadata": {
    "ExecuteTime": {
     "end_time": "2024-07-10T08:54:48.618039Z",
     "start_time": "2024-07-10T08:54:48.604958Z"
    }
   },
   "cell_type": "code",
   "source": [
    "def assign_weights(data):\n",
    "    for column, weight in feature_weights.items():\n",
    "        if column in data.columns:\n",
    "            data[column] = data[column]*weight"
   ],
   "id": "aa10aa183dd55e02",
   "outputs": [],
   "execution_count": 19
  },
  {
   "metadata": {
    "ExecuteTime": {
     "end_time": "2024-07-10T08:54:49.748956Z",
     "start_time": "2024-07-10T08:54:49.740218Z"
    }
   },
   "cell_type": "code",
   "source": [
    "def reverse_com_values(data):\n",
    "    max_complementary_value = max(weights.values())\n",
    "    for column in comp_cols:\n",
    "        if column in data.columns:\n",
    "            data[column] = max_complementary_value - data[column]"
   ],
   "id": "f7929ded8ef6501d",
   "outputs": [],
   "execution_count": 20
  },
  {
   "metadata": {
    "ExecuteTime": {
     "end_time": "2024-07-10T08:54:51.577707Z",
     "start_time": "2024-07-10T08:54:51.573179Z"
    }
   },
   "cell_type": "code",
   "source": [
    "def plot_elbow_method(X):\n",
    "    inertia = []\n",
    "    K = range(1, 11)\n",
    "    for k in K:\n",
    "        kmeans = KMeans(n_clusters=k, random_state=42)\n",
    "        kmeans.fit(X)\n",
    "        inertia.append(kmeans.inertia_)\n",
    "    \n",
    "    plt.figure(figsize=(10, 6))\n",
    "    plt.plot(K, inertia, 'bx-')\n",
    "    plt.xlabel('Number of clusters')\n",
    "    plt.ylabel('Inertia')\n",
    "    plt.title('Elbow Method for Optimal Number of Clusters')\n",
    "    plt.show()\n",
    "\n",
    "    optimal_clusters = 1\n",
    "    for i in range(1, len(inertia) - 1):\n",
    "        if inertia[i-1] - inertia[i] < inertia[i] - inertia[i+1]:\n",
    "            optimal_clusters = i + 1\n",
    "            break\n",
    "\n",
    "    return optimal_clusters"
   ],
   "id": "890620ef6b012b39",
   "outputs": [],
   "execution_count": 21
  },
  {
   "metadata": {
    "ExecuteTime": {
     "end_time": "2024-07-10T09:07:31.520108Z",
     "start_time": "2024-07-10T09:07:31.459778Z"
    }
   },
   "cell_type": "code",
   "source": [
    "# Path to the CSV file\n",
    "from sklearn.preprocessing import StandardScaler \n",
    "filepath = 'data/synthetic_data.csv'\n",
    "\n",
    "# Load and preprocess the data\n",
    "dfs = load_and_preprocess_data(filepath)\n",
    "\n"
   ],
   "id": "881aa7326a519e46",
   "outputs": [],
   "execution_count": 33
  },
  {
   "metadata": {
    "ExecuteTime": {
     "end_time": "2024-07-10T09:07:32.940232Z",
     "start_time": "2024-07-10T09:07:32.928712Z"
    }
   },
   "cell_type": "code",
   "source": [
    "scaler = StandardScaler()\n",
    "df_scaled = pd.DataFrame(scaler.fit_transform(dfs), columns=dfs.columns, index=dfs.index)"
   ],
   "id": "4ec67ec5e6cce5bd",
   "outputs": [],
   "execution_count": 34
  },
  {
   "metadata": {
    "ExecuteTime": {
     "end_time": "2024-07-10T09:11:48.694941Z",
     "start_time": "2024-07-10T09:09:43.389974Z"
    }
   },
   "cell_type": "code",
   "source": [
    "def calculate_custom_similarity(data):\n",
    "    num_teams = len(data)\n",
    "    sim_matrix = np.zeros((num_teams, num_teams))\n",
    "    \n",
    "    for i in range(num_teams):\n",
    "        for j in range(num_teams):\n",
    "            if i != j:\n",
    "                similarity_score = 0\n",
    "                # Similarity for industry columns\n",
    "                for col in industry_cols:\n",
    "                    if data[col].iloc[i] == data[col].iloc[j]:\n",
    "                        similarity_score += data[col].iloc[i]\n",
    "                \n",
    "                # Complementary for complementary columns\n",
    "                for col in comp_cols:\n",
    "                    diff = abs(data[col].iloc[i] - data[col].iloc[j])\n",
    "                    similarity_score += max(weights.values()) - diff\n",
    "                \n",
    "                sim_matrix[i][j] = similarity_score\n",
    "    \n",
    "    return sim_matrix\n",
    "\n",
    "# Calculate the custom similarity matrix\n",
    "custom_similarity_matrix = calculate_custom_similarity(dfs)\n"
   ],
   "id": "652cc1f9729382ee",
   "outputs": [],
   "execution_count": 36
  },
  {
   "metadata": {
    "ExecuteTime": {
     "end_time": "2024-07-10T09:16:31.206506Z",
     "start_time": "2024-07-10T09:16:31.189076Z"
    }
   },
   "cell_type": "code",
   "source": [
    "# Normalize the custom similarity matrix\n",
    "max_sim = np.max(custom_similarity_matrix)\n",
    "normalized_similarity_matrix = custom_similarity_matrix / max_sim\n",
    "\n",
    "# Convert similarity matrix to distance matrix\n",
    "distance_matrix = 1 - normalized_similarity_matrix\n",
    "\n",
    "# Set the diagonal to zero\n",
    "np.fill_diagonal(distance_matrix, 0)"
   ],
   "id": "1388541d52690e03",
   "outputs": [],
   "execution_count": 37
  },
  {
   "metadata": {
    "ExecuteTime": {
     "end_time": "2024-07-10T09:16:32.602703Z",
     "start_time": "2024-07-10T09:16:32.589791Z"
    }
   },
   "cell_type": "code",
   "source": [
    "def apply_agglomerative_clustering(distance_matrix, n_clusters):\n",
    "    clustering = AgglomerativeClustering(n_clusters=n_clusters, metric='precomputed', linkage='complete')\n",
    "    labels = clustering.fit_predict(distance_matrix)\n",
    "    return labels\n",
    "\n",
    "def apply_kmeans_clustering(encoded_data, n_clusters):\n",
    "    kmeans = KMeans(n_clusters=n_clusters, init='k-means++', random_state=42)\n",
    "    kmeans.fit(encoded_data)\n",
    "    labels = kmeans.labels_\n",
    "    return labels"
   ],
   "id": "c1b3054d87cff3dd",
   "outputs": [],
   "execution_count": 38
  },
  {
   "metadata": {
    "ExecuteTime": {
     "end_time": "2024-07-10T09:16:34.869384Z",
     "start_time": "2024-07-10T09:16:34.685187Z"
    }
   },
   "cell_type": "code",
   "source": [
    "# Determine the optimal number of clusters for Agglomerative Clustering\n",
    "silhouette_avg_scores = []\n",
    "for n_clusters in range(2, 11):\n",
    "    labels = apply_agglomerative_clustering(distance_matrix, n_clusters)\n",
    "    silhouette_avg = silhouette_score(distance_matrix, labels, metric='precomputed')\n",
    "    silhouette_avg_scores.append(silhouette_avg)\n",
    "\n",
    "optimal_clusters_agg = silhouette_avg_scores.index(max(silhouette_avg_scores)) + 2\n",
    "print(f'Optimal number of clusters for Agglomerative Clustering: {optimal_clusters_agg}')\n",
    "\n",
    "best_labels_agg = apply_agglomerative_clustering(distance_matrix, optimal_clusters_agg)"
   ],
   "id": "b9f775b3916d7458",
   "outputs": [
    {
     "name": "stdout",
     "output_type": "stream",
     "text": [
      "Optimal number of clusters for Agglomerative Clustering: 2\n"
     ]
    }
   ],
   "execution_count": 39
  },
  {
   "metadata": {
    "ExecuteTime": {
     "end_time": "2024-07-10T09:16:36.953980Z",
     "start_time": "2024-07-10T09:16:36.904100Z"
    }
   },
   "cell_type": "code",
   "source": [
    "silhouette_avg_agg = silhouette_score(distance_matrix, best_labels_agg, metric='precomputed')\n",
    "davies_bouldin_agg = davies_bouldin_score(distance_matrix, best_labels_agg)\n",
    "print(f'Agglomerative - Silhouette Score: {silhouette_avg_agg}, Davies-Bouldin Score: {davies_bouldin_agg}')"
   ],
   "id": "6fc42d07ed0b1ff2",
   "outputs": [
    {
     "name": "stdout",
     "output_type": "stream",
     "text": [
      "Agglomerative - Silhouette Score: 0.026520328414729524, Davies-Bouldin Score: 6.225512108725167\n"
     ]
    }
   ],
   "execution_count": 40
  },
  {
   "metadata": {
    "ExecuteTime": {
     "end_time": "2024-07-10T09:16:40.586037Z",
     "start_time": "2024-07-10T09:16:38.268700Z"
    }
   },
   "cell_type": "code",
   "source": [
    "silhouette_avg_scores = []\n",
    "for n_clusters in range(2, 11):\n",
    "    labels = apply_kmeans_clustering(distance_matrix, n_clusters)\n",
    "    silhouette_avg = silhouette_score(distance_matrix, labels, metric='precomputed')\n",
    "    silhouette_avg_scores.append(silhouette_avg)\n",
    "\n",
    "optimal_clusters_kmeans = silhouette_avg_scores.index(max(silhouette_avg_scores)) + 2\n",
    "print(f'Optimal number of clusters for KMeans: {optimal_clusters_kmeans}')\n",
    "\n",
    "best_labels_kmeans = apply_kmeans_clustering(distance_matrix, optimal_clusters_kmeans)"
   ],
   "id": "c1ef044e35c91cf7",
   "outputs": [
    {
     "name": "stdout",
     "output_type": "stream",
     "text": [
      "Optimal number of clusters for KMeans: 2\n"
     ]
    }
   ],
   "execution_count": 41
  },
  {
   "metadata": {
    "ExecuteTime": {
     "end_time": "2024-07-10T09:03:41.725058Z",
     "start_time": "2024-07-10T09:03:41.677863Z"
    }
   },
   "cell_type": "code",
   "source": [
    "silhouette_avg_kmeans = silhouette_score(distance_matrix, best_labels_kmeans, metric='precomputed')\n",
    "davies_bouldin_kmeans = davies_bouldin_score(distance_matrix, best_labels_kmeans)\n",
    "print(f'KMeans - Silhouette Score: {silhouette_avg_kmeans}, Davies-Bouldin Score: {davies_bouldin_kmeans}')"
   ],
   "id": "64759d3933219e1b",
   "outputs": [
    {
     "name": "stdout",
     "output_type": "stream",
     "text": [
      "KMeans - Silhouette Score: 0.03928745074582179, Davies-Bouldin Score: 2.5421986804325463\n"
     ]
    }
   ],
   "execution_count": 32
  }
 ],
 "metadata": {
  "kernelspec": {
   "display_name": "Python 3",
   "language": "python",
   "name": "python3"
  },
  "language_info": {
   "codemirror_mode": {
    "name": "ipython",
    "version": 2
   },
   "file_extension": ".py",
   "mimetype": "text/x-python",
   "name": "python",
   "nbconvert_exporter": "python",
   "pygments_lexer": "ipython2",
   "version": "2.7.6"
  }
 },
 "nbformat": 4,
 "nbformat_minor": 5
}

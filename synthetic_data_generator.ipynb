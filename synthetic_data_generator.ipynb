{
 "cells": [
  {
   "cell_type": "code",
   "id": "initial_id",
   "metadata": {
    "collapsed": true,
    "ExecuteTime": {
     "end_time": "2024-07-09T08:07:22.749802Z",
     "start_time": "2024-07-09T08:07:19.629036Z"
    }
   },
   "source": "!pip install faker",
   "outputs": [
    {
     "name": "stdout",
     "output_type": "stream",
     "text": [
      "Collecting faker\r\n",
      "  Downloading Faker-26.0.0-py3-none-any.whl.metadata (15 kB)\r\n",
      "Requirement already satisfied: python-dateutil>=2.4 in /Users/kimonanagnostopoulos/miniconda3/lib/python3.12/site-packages (from faker) (2.9.0.post0)\r\n",
      "Requirement already satisfied: six>=1.5 in /Users/kimonanagnostopoulos/miniconda3/lib/python3.12/site-packages (from python-dateutil>=2.4->faker) (1.16.0)\r\n",
      "Downloading Faker-26.0.0-py3-none-any.whl (1.8 MB)\r\n",
      "\u001B[2K   \u001B[90m━━━━━━━━━━━━━━━━━━━━━━━━━━━━━━━━━━━━━━━━\u001B[0m \u001B[32m1.8/1.8 MB\u001B[0m \u001B[31m6.4 MB/s\u001B[0m eta \u001B[36m0:00:00\u001B[0ma \u001B[36m0:00:01\u001B[0m\r\n",
      "\u001B[?25hInstalling collected packages: faker\r\n",
      "Successfully installed faker-26.0.0\r\n"
     ]
    }
   ],
   "execution_count": 2
  },
  {
   "metadata": {
    "ExecuteTime": {
     "end_time": "2024-07-09T08:17:33.725262Z",
     "start_time": "2024-07-09T08:17:33.714627Z"
    }
   },
   "cell_type": "code",
   "source": [
    "import pandas as pd\n",
    "import numpy as np\n",
    "from faker import Faker"
   ],
   "id": "72b5b625ceeef27e",
   "outputs": [],
   "execution_count": 26
  },
  {
   "metadata": {
    "ExecuteTime": {
     "end_time": "2024-07-09T08:17:35.529458Z",
     "start_time": "2024-07-09T08:17:35.520515Z"
    }
   },
   "cell_type": "code",
   "source": [
    "filepath = 'data/team_stats.csv'\n",
    "data = pd.read_csv(filepath)\n",
    "\n",
    "transposed_data = data.set_index('Field').transpose()"
   ],
   "id": "919496e0574356b0",
   "outputs": [],
   "execution_count": 27
  },
  {
   "metadata": {
    "ExecuteTime": {
     "end_time": "2024-07-09T08:17:36.798150Z",
     "start_time": "2024-07-09T08:17:36.731253Z"
    }
   },
   "cell_type": "code",
   "source": [
    "fake = Faker()\n",
    "n_teams = 100\n",
    "team_names = [fake.company() for _ in range(n_teams)]\n",
    "\n",
    "transposed_value_counts = transposed_data.apply(pd.Series.value_counts).fillna(0)\n",
    "\n"
   ],
   "id": "f4e44e8744f48e96",
   "outputs": [],
   "execution_count": 28
  },
  {
   "metadata": {
    "ExecuteTime": {
     "end_time": "2024-07-09T08:17:37.777681Z",
     "start_time": "2024-07-09T08:17:37.772494Z"
    }
   },
   "cell_type": "code",
   "source": [
    "def generate_transposed_synthetic_data(transposed_value_counts, team_names):\n",
    "    synthetic_data = pd.DataFrame(columns=transposed_value_counts.columns, index=team_names)\n",
    "    \n",
    "    for column in transposed_value_counts.columns:\n",
    "        values = transposed_value_counts.index.tolist()\n",
    "        probabilities = (transposed_value_counts[column] / transposed_value_counts[column].sum()).tolist()\n",
    "        synthetic_data[column] = np.random.choice(values, len(team_names), p=probabilities)\n",
    "    \n",
    "    return synthetic_data"
   ],
   "id": "13a89f1a7f86e4aa",
   "outputs": [],
   "execution_count": 29
  },
  {
   "metadata": {
    "ExecuteTime": {
     "end_time": "2024-07-09T08:17:39.808492Z",
     "start_time": "2024-07-09T08:17:39.796160Z"
    }
   },
   "cell_type": "code",
   "source": "synthetic_data = generate_transposed_synthetic_data(transposed_value_counts, team_names)",
   "id": "8528c0d23cdd70e5",
   "outputs": [],
   "execution_count": 30
  },
  {
   "metadata": {
    "ExecuteTime": {
     "end_time": "2024-07-09T08:18:01.268167Z",
     "start_time": "2024-07-09T08:18:01.257087Z"
    }
   },
   "cell_type": "code",
   "source": "synthetic_data.to_csv('synthetic_data_test.csv', index_label = 'Team')",
   "id": "645b6edecd421700",
   "outputs": [],
   "execution_count": 32
  }
 ],
 "metadata": {
  "kernelspec": {
   "display_name": "Python 3",
   "language": "python",
   "name": "python3"
  },
  "language_info": {
   "codemirror_mode": {
    "name": "ipython",
    "version": 2
   },
   "file_extension": ".py",
   "mimetype": "text/x-python",
   "name": "python",
   "nbconvert_exporter": "python",
   "pygments_lexer": "ipython2",
   "version": "2.7.6"
  }
 },
 "nbformat": 4,
 "nbformat_minor": 5
}
